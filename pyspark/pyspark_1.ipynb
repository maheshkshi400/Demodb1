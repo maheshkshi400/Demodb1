{
 "cells": [
  {
   "cell_type": "code",
   "execution_count": 3,
   "metadata": {},
   "outputs": [
    {
     "ename": "NameError",
     "evalue": "name 'spark' is not defined",
     "output_type": "error",
     "traceback": [
      "\u001b[0;31m---------------------------------------------------------------------------\u001b[0m",
      "\u001b[0;31mNameError\u001b[0m                                 Traceback (most recent call last)",
      "\u001b[1;32m/workspaces/Demodb1/pyspark/pyspark_1.ipynb Cell 1\u001b[0m line \u001b[0;36m4\n\u001b[1;32m      <a href='vscode-notebook-cell://codespaces%2Burban-halibut-q7qvvxwq44xvc9r7v/workspaces/Demodb1/pyspark/pyspark_1.ipynb#W0sdnNjb2RlLXJlbW90ZQ%3D%3D?line=0'>1</a>\u001b[0m data1 \u001b[39m=\u001b[39m [(\u001b[39m1\u001b[39m,\u001b[39m'\u001b[39m\u001b[39mmahesh\u001b[39m\u001b[39m'\u001b[39m,\u001b[39m'\u001b[39m\u001b[39mmale\u001b[39m\u001b[39m'\u001b[39m,\u001b[39m20\u001b[39m,\u001b[39m5000\u001b[39m,\u001b[39m'\u001b[39m\u001b[39mIT\u001b[39m\u001b[39m'\u001b[39m,\u001b[39m50\u001b[39m),(\u001b[39m2\u001b[39m,\u001b[39m'\u001b[39m\u001b[39mshruthi\u001b[39m\u001b[39m'\u001b[39m,\u001b[39m'\u001b[39m\u001b[39mfemale\u001b[39m\u001b[39m'\u001b[39m,\u001b[39m30\u001b[39m,\u001b[39m6000\u001b[39m,\u001b[39m'\u001b[39m\u001b[39mHR\u001b[39m\u001b[39m'\u001b[39m,\u001b[39m20\u001b[39m),(\u001b[39m3\u001b[39m,\u001b[39m'\u001b[39m\u001b[39mganesh\u001b[39m\u001b[39m'\u001b[39m,\u001b[39m'\u001b[39m\u001b[39mmale\u001b[39m\u001b[39m'\u001b[39m,\u001b[39m25\u001b[39m,\u001b[39m7000\u001b[39m,\u001b[39m'\u001b[39m\u001b[39mFINANCE\u001b[39m\u001b[39m'\u001b[39m,\u001b[39m30\u001b[39m),(\u001b[39m4\u001b[39m,\u001b[39m'\u001b[39m\u001b[39mpooja\u001b[39m\u001b[39m'\u001b[39m,\u001b[39m'\u001b[39m\u001b[39mfemale\u001b[39m\u001b[39m'\u001b[39m,\u001b[39m34\u001b[39m,\u001b[39m8000\u001b[39m,\u001b[39m'\u001b[39m\u001b[39mPAYROLL\u001b[39m\u001b[39m'\u001b[39m,\u001b[39m40\u001b[39m),(\u001b[39m5\u001b[39m,\u001b[39m'\u001b[39m\u001b[39mkamini\u001b[39m\u001b[39m'\u001b[39m,\u001b[39m'\u001b[39m\u001b[39mfemale\u001b[39m\u001b[39m'\u001b[39m,\u001b[39m31\u001b[39m,\u001b[39m6000\u001b[39m,\u001b[39m'\u001b[39m\u001b[39mIT\u001b[39m\u001b[39m'\u001b[39m,\u001b[39m50\u001b[39m)]\n\u001b[1;32m      <a href='vscode-notebook-cell://codespaces%2Burban-halibut-q7qvvxwq44xvc9r7v/workspaces/Demodb1/pyspark/pyspark_1.ipynb#W0sdnNjb2RlLXJlbW90ZQ%3D%3D?line=1'>2</a>\u001b[0m schema1 \u001b[39m=\u001b[39m [\u001b[39m'\u001b[39m\u001b[39mid\u001b[39m\u001b[39m'\u001b[39m,\u001b[39m'\u001b[39m\u001b[39mname\u001b[39m\u001b[39m'\u001b[39m,\u001b[39m'\u001b[39m\u001b[39mgender\u001b[39m\u001b[39m'\u001b[39m,\u001b[39m'\u001b[39m\u001b[39mage\u001b[39m\u001b[39m'\u001b[39m,\u001b[39m'\u001b[39m\u001b[39msalary\u001b[39m\u001b[39m'\u001b[39m,\u001b[39m'\u001b[39m\u001b[39mdept\u001b[39m\u001b[39m'\u001b[39m,\u001b[39m'\u001b[39m\u001b[39mdeptno\u001b[39m\u001b[39m'\u001b[39m]\n\u001b[0;32m----> <a href='vscode-notebook-cell://codespaces%2Burban-halibut-q7qvvxwq44xvc9r7v/workspaces/Demodb1/pyspark/pyspark_1.ipynb#W0sdnNjb2RlLXJlbW90ZQ%3D%3D?line=3'>4</a>\u001b[0m df1 \u001b[39m=\u001b[39m spark\u001b[39m.\u001b[39mcreateDataFrame(data1,schema1)\n\u001b[1;32m      <a href='vscode-notebook-cell://codespaces%2Burban-halibut-q7qvvxwq44xvc9r7v/workspaces/Demodb1/pyspark/pyspark_1.ipynb#W0sdnNjb2RlLXJlbW90ZQ%3D%3D?line=5'>6</a>\u001b[0m df1\u001b[39m.\u001b[39mshow()\n",
      "\u001b[0;31mNameError\u001b[0m: name 'spark' is not defined"
     ]
    }
   ],
   "source": [
    "data1 = [(1,'mahesh','male',20,5000,'IT',50),(2,'shruthi','female',30,6000,'HR',20),(3,'ganesh','male',25,7000,'FINANCE',30),(4,'pooja','female',34,8000,'PAYROLL',40),(5,'kamini','female',31,6000,'IT',50)]\n",
    "schema1 = ['id','name','gender','age','salary','dept','deptno']\n",
    "\n",
    "df1 = spark.createDataFrame(data1,schema1)\n",
    "\n",
    "df1.show()"
   ]
  },
  {
   "cell_type": "code",
   "execution_count": null,
   "metadata": {},
   "outputs": [],
   "source": []
  }
 ],
 "metadata": {
  "kernelspec": {
   "display_name": "Python 3",
   "language": "python",
   "name": "python3"
  },
  "language_info": {
   "codemirror_mode": {
    "name": "ipython",
    "version": 3
   },
   "file_extension": ".py",
   "mimetype": "text/x-python",
   "name": "python",
   "nbconvert_exporter": "python",
   "pygments_lexer": "ipython3",
   "version": "3.10.8"
  }
 },
 "nbformat": 4,
 "nbformat_minor": 2
}
