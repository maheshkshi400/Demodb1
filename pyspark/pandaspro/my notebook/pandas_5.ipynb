{
 "cells": [
  {
   "cell_type": "code",
   "execution_count": 1,
   "metadata": {},
   "outputs": [
    {
     "name": "stdout",
     "output_type": "stream",
     "text": [
      "    Courses    Fee Duration  Discount\n",
      "r1    Spark  20000   30days      1000\n",
      "r2  PySpark  25000   40days      2300\n",
      "r3   Hadoop  26000   35days      1500\n",
      "r4   Python  22000   40days      1200\n",
      "r5   pandas  24000      NaN      2500\n",
      "r6   Oracle  21000     None      2100\n",
      "r7     Java  22000   55days      2000\n",
      "40days\n",
      "40days\n",
      "55days\n",
      "None\n",
      "40days\n",
      "40days\n",
      "40days\n",
      "40days\n",
      "40days\n"
     ]
    },
    {
     "name": "stderr",
     "output_type": "stream",
     "text": [
      "C:\\Users\\Pc\\AppData\\Local\\Temp\\ipykernel_18480\\138361253.py:17: FutureWarning: Series.__getitem__ treating keys as positions is deprecated. In a future version, integer keys will always be treated as labels (consistent with DataFrame behavior). To access a value by position, use `ser.iloc[pos]`\n",
      "  print(df.loc['r4'][2])\n",
      "C:\\Users\\Pc\\AppData\\Local\\Temp\\ipykernel_18480\\138361253.py:28: FutureWarning: Series.__getitem__ treating keys as positions is deprecated. In a future version, integer keys will always be treated as labels (consistent with DataFrame behavior). To access a value by position, use `ser.iloc[pos]`\n",
      "  print(df.loc['r4'][2])\n"
     ]
    }
   ],
   "source": [
    "import pandas as pd\n",
    "import numpy as np\n",
    "\n",
    "technologies = {\n",
    "    'Courses':[\"Spark\",\"PySpark\",\"Hadoop\",\"Python\",\"pandas\",\"Oracle\",\"Java\"],\n",
    "    'Fee' :[20000,25000,26000,22000,24000,21000,22000],\n",
    "    'Duration':['30days','40days','35days','40days',np.nan,None,'55days'],\n",
    "    'Discount':[1000,2300,1500,1200,2500,2100,2000]\n",
    "               }\n",
    "index_labels=['r1','r2','r3','r4','r5','r6','r7']\n",
    "df = pd.DataFrame(technologies,index=index_labels)\n",
    "print(df)\n",
    "\n",
    "\n",
    "# Using loc[]. Get cell value by name & index\n",
    "print(df.loc['r4']['Duration'])\n",
    "print(df.loc['r4'][2])\n",
    "\n",
    "# Using iloc[]. Get cell value by index & name\n",
    "print(df.iloc[6]['Duration'])\n",
    "print(df.iloc[5,2])\n",
    "\n",
    "\n",
    "\n",
    "# Using loc[]. Get cell value by name & index\n",
    "print(df.loc['r4']['Duration'])\n",
    "print(df.loc['r4','Duration'])\n",
    "print(df.loc['r4'][2])\n",
    "\n",
    "\n",
    "\n",
    "# Using DataFrame.at[]\n",
    "print(df.at['r4','Duration'])\n",
    "print(df.at[df.index[3],'Duration'])\n"
   ]
  }
 ],
 "metadata": {
  "kernelspec": {
   "display_name": "Python 3",
   "language": "python",
   "name": "python3"
  },
  "language_info": {
   "codemirror_mode": {
    "name": "ipython",
    "version": 3
   },
   "file_extension": ".py",
   "mimetype": "text/x-python",
   "name": "python",
   "nbconvert_exporter": "python",
   "pygments_lexer": "ipython3",
   "version": "3.11.5"
  }
 },
 "nbformat": 4,
 "nbformat_minor": 2
}
